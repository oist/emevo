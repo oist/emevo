{
 "cells": [
  {
   "cell_type": "code",
   "execution_count": null,
   "id": "4a269b9a-0b0e-4008-9d7d-c1033b09d61e",
   "metadata": {},
   "outputs": [],
   "source": [
    "import numpy as np\n",
    "from matplotlib import pyplot as plt"
   ]
  },
  {
   "cell_type": "code",
   "execution_count": null,
   "id": "2032dafb-e58c-4975-8e23-cbbbbad666a3",
   "metadata": {},
   "outputs": [],
   "source": [
    "fig, ax = plt.subplots()\n",
    "x = np.linspace(0, 400, 100)\n",
    "k = 0.01\n",
    "ax.plot(x, np.exp(-k * x)) "
   ]
  },
  {
   "cell_type": "code",
   "execution_count": null,
   "id": "4323a167-11f4-4cf1-9295-aa1fa0a517e7",
   "metadata": {},
   "outputs": [],
   "source": [
    "import jax.numpy as jnp\n",
    "import jax"
   ]
  },
  {
   "cell_type": "code",
   "execution_count": null,
   "id": "1d19087c-e9de-4802-ad7b-29294214cb37",
   "metadata": {},
   "outputs": [],
   "source": [
    "jnp.zeros((10, 2)) + jnp.array([[2, 1]])"
   ]
  },
  {
   "cell_type": "code",
   "execution_count": null,
   "id": "aba16655-0d2f-460c-b3c9-99a04e2e517c",
   "metadata": {},
   "outputs": [],
   "source": [
    "f = jax.jit(lambda x: jnp.zeros((10, 2)).at[:, 1].add(x))"
   ]
  },
  {
   "cell_type": "code",
   "execution_count": null,
   "id": "3aec688e-d823-406b-a036-a1e6d6622c6d",
   "metadata": {},
   "outputs": [],
   "source": [
    "f(20)"
   ]
  },
  {
   "cell_type": "code",
   "execution_count": null,
   "id": "b915000a-32f0-431a-b6bd-0d713a7672d7",
   "metadata": {},
   "outputs": [],
   "source": []
  },
  {
   "cell_type": "code",
   "execution_count": null,
   "id": "a4ce2974-2d72-4657-b6ca-f790a0461208",
   "metadata": {},
   "outputs": [],
   "source": []
  },
  {
   "cell_type": "code",
   "execution_count": null,
   "id": "8f0b58a8-1f98-4fc8-8d8b-b4547e70fb1b",
   "metadata": {},
   "outputs": [],
   "source": [
    "fig, ax = plt.subplots()\n",
    "x = np.linspace(0.1, 400, 100)\n",
    "a = 10\n",
    "b = 1\n",
    "ax.plot(x, a * np.log(x) + b)"
   ]
  },
  {
   "cell_type": "code",
   "execution_count": null,
   "id": "04de09f1-b4a4-43b9-abad-f936503c84cd",
   "metadata": {},
   "outputs": [],
   "source": []
  }
 ],
 "metadata": {
  "kernelspec": {
   "display_name": "emevo-lab",
   "language": "python",
   "name": "emevo-lab"
  },
  "language_info": {
   "codemirror_mode": {
    "name": "ipython",
    "version": 3
   },
   "file_extension": ".py",
   "mimetype": "text/x-python",
   "name": "python",
   "nbconvert_exporter": "python",
   "pygments_lexer": "ipython3",
   "version": "3.11.6"
  }
 },
 "nbformat": 4,
 "nbformat_minor": 5
}
