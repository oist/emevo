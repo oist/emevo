{
 "cells": [
  {
   "cell_type": "code",
   "execution_count": null,
   "id": "31f0ecac-d024-4106-8700-0f84004e753e",
   "metadata": {},
   "outputs": [],
   "source": [
    "import dataclasses\n",
    "\n",
    "import ipywidgets as widgets\n",
    "import numpy as np\n",
    "from matplotlib import pyplot as plt\n",
    "from matplotlib.lines import Line2D\n",
    "\n",
    "%matplotlib ipympl"
   ]
  },
  {
   "cell_type": "code",
   "execution_count": null,
   "id": "9de733db-cd24-4a67-ae28-f2e3ce2af415",
   "metadata": {},
   "outputs": [],
   "source": [
    "def make_slider(\n",
    "    vmin: float,\n",
    "    vmax: float,\n",
    "    logscale: bool = True,\n",
    "    n_steps: int = 400,\n",
    ") -> widgets.FloatSlider | widgets.FloatLogSlider:\n",
    "    if logscale:\n",
    "        logmin = np.log10(vmin)\n",
    "        logmax = np.log10(vmax)\n",
    "        logstep = (logmax - logmin) / n_steps\n",
    "        return widgets.FloatLogSlider(\n",
    "            min=logmin,\n",
    "            max=logmax,\n",
    "            step=logstep,\n",
    "            value=10 ** ((logmax + logmin) / 2.0),\n",
    "            base=10,\n",
    "            readout_format=\".3e\",\n",
    "        )\n",
    "    else:\n",
    "        return widgets.FloatSlider(\n",
    "            min=vmin,\n",
    "            max=vmax,\n",
    "            step=(vmax - vmin) / n_steps,\n",
    "            value=(vmax + vmin) / 2,\n",
    "        )"
   ]
  },
  {
   "cell_type": "code",
   "execution_count": null,
   "id": "df0fe701-8b83-4a0c-86f9-6d241cd930ea",
   "metadata": {},
   "outputs": [],
   "source": [
    "def sigmoid_reward_widget(\n",
    "    f,\n",
    "    energy_max: float = 40.0,\n",
    "    n_discr: int = 1000,\n",
    ") -> widgets.VBox:\n",
    "    fig = plt.figure(figsize=(6, 6))\n",
    "    ax = fig.add_subplot(111)\n",
    "    ax.set_title(\"Sigmoid reward_fn\")\n",
    "\n",
    "    @dataclasses.dataclass\n",
    "    class State:\n",
    "        line: Line2D | None = None\n",
    "\n",
    "    state = State()\n",
    "\n",
    "    def update_figure(alpha: float = 0.0):\n",
    "        if  state.line is None:\n",
    "            ax.grid(True, which=\"major\")\n",
    "            ax.set_xlabel(\"Energy\", fontsize=12)\n",
    "            ax.set_ylabel(\"Reward Coef\", fontsize=12)\n",
    "            # ax.set_ylim((-1.0, 1.0))\n",
    "        else:\n",
    "            state.line.remove()\n",
    "\n",
    "        energy = np.linspace(0.0, energy_max, n_discr)\n",
    "        state.line = ax.plot(energy, f(energy, alpha), color=\"xkcd:bluish purple\")[0]\n",
    "        fig.canvas.draw()\n",
    "        fig.canvas.flush_events()\n",
    "\n",
    "    interactive = widgets.interactive(update_figure, alpha=make_slider(-1.0, 1.0, logscale=False, n_steps=n_discr))\n",
    "    return widgets.VBox([interactive])"
   ]
  },
  {
   "cell_type": "code",
   "execution_count": null,
   "id": "a9fbd4a3-b9ef-437d-8db6-3771d6b1fef0",
   "metadata": {},
   "outputs": [],
   "source": [
    "sigmoid_reward_widget(lambda e, a: 1.0 / (1.0 + np.exp(- e * a)))"
   ]
  },
  {
   "cell_type": "code",
   "execution_count": null,
   "id": "64594795-61ee-46f9-b8f0-35325a5e2f56",
   "metadata": {},
   "outputs": [],
   "source": [
    "sigmoid_reward_widget(lambda e, a: 2.0 / (1.0 + np.exp(- e * a)) - (a > 0))"
   ]
  },
  {
   "cell_type": "code",
   "execution_count": null,
   "id": "10645fdc-831b-4e82-82c3-06066eafb08d",
   "metadata": {},
   "outputs": [],
   "source": [
    "def delayed_sig(e, a):\n",
    "    if a > 0:\n",
    "        return 1.0 / (1.0 + np.exp(-e + 32 * a))\n",
    "    else:\n",
    "        return 1.0 / (1.0 + np.exp(e - 32 * (1.0 + a) - 16))\n",
    "\n",
    "sigmoid_reward_widget(delayed_sig, energy_max=80)"
   ]
  },
  {
   "cell_type": "code",
   "execution_count": null,
   "id": "b91dd971-aa16-43ca-95e5-b20341f89df1",
   "metadata": {},
   "outputs": [],
   "source": [
    "def sinh_reward_widget(\n",
    "    f,\n",
    "    alpha_max: float = 5.0,\n",
    "    n_discr: int = 1000\n",
    ") -> widgets.VBox:\n",
    "    fig = plt.figure(figsize=(6, 6))\n",
    "    ax = fig.add_subplot(111)\n",
    "    ax.set_title(\"Sinh reward_fn\")\n",
    "\n",
    "    @dataclasses.dataclass\n",
    "    class State:\n",
    "        line: Line2D | None = None\n",
    "\n",
    "    state = State()\n",
    "\n",
    "    def update_figure(alpha: float = 0.0):\n",
    "        if state.line is None:\n",
    "            ax.grid(True, which=\"major\")\n",
    "            ax.set_xlabel(\"W\", fontsize=12)\n",
    "            ax.set_ylabel(\"Reward Coef\", fontsize=12)\n",
    "            # ax.set_ylim((-1.0, 1.0))\n",
    "        else:\n",
    "            state.line.remove()\n",
    "\n",
    "        w = np.linspace(-1.0, 1.0, n_discr)\n",
    "        state.line = ax.plot(w, f(w, alpha), color=\"xkcd:bluish purple\")[0]\n",
    "        fig.canvas.draw()\n",
    "        fig.canvas.flush_events()\n",
    "\n",
    "    interactive = widgets.interactive(\n",
    "        update_figure, alpha=make_slider(0.0, alpha_max, logscale=False, n_steps=n_discr)\n",
    "    )\n",
    "    return widgets.VBox([interactive])"
   ]
  },
  {
   "cell_type": "code",
   "execution_count": null,
   "id": "71c3a640-8966-4b43-b233-558c5e0e3b24",
   "metadata": {},
   "outputs": [],
   "source": [
    "sinh_reward_widget(lambda w, alpha: np.sinh(w * alpha), 2.5)"
   ]
  },
  {
   "cell_type": "code",
   "execution_count": null,
   "id": "83006805-e9e0-4de3-a279-d3feb21f12d0",
   "metadata": {},
   "outputs": [],
   "source": []
  }
 ],
 "metadata": {
  "kernelspec": {
   "display_name": "emevo-lab",
   "language": "python",
   "name": "emevo-lab"
  },
  "language_info": {
   "codemirror_mode": {
    "name": "ipython",
    "version": 3
   },
   "file_extension": ".py",
   "mimetype": "text/x-python",
   "name": "python",
   "nbconvert_exporter": "python",
   "pygments_lexer": "ipython3",
   "version": "3.12.7"
  }
 },
 "nbformat": 4,
 "nbformat_minor": 5
}
